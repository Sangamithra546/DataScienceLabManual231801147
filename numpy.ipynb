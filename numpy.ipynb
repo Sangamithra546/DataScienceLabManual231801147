{
  "nbformat": 4,
  "nbformat_minor": 0,
  "metadata": {
    "colab": {
      "provenance": []
    },
    "kernelspec": {
      "name": "python3",
      "display_name": "Python 3"
    },
    "language_info": {
      "name": "python"
    }
  },
  "cells": [
    {
      "cell_type": "code",
      "execution_count": 1,
      "metadata": {
        "colab": {
          "base_uri": "https://localhost:8080/"
        },
        "id": "X2e-uaDgTrUj",
        "outputId": "1bcf2381-7d16-492f-8573-81c8717b77ae"
      },
      "outputs": [
        {
          "output_type": "stream",
          "name": "stdout",
          "text": [
            "[[ 0  1  2  3]\n",
            " [ 4  5  6  7]\n",
            " [ 8  9 10 11]]\n",
            "[[False False False False]\n",
            " [False  True  True  True]\n",
            " [ True  True  True  True]]\n",
            "[ 5  6  7  8  9 10 11]\n",
            "[[0 1 2 3]\n",
            " [4 1 1 1]\n",
            " [1 1 1 1]]\n"
          ]
        }
      ],
      "source": [
        "import numpy as np\n",
        "a = np.arange(12).reshape(3,4)\n",
        "print(a)\n",
        "b = a>4\n",
        "print(b)\n",
        "print(a[b])\n",
        "a[b] = 1\n",
        "print(a)"
      ]
    },
    {
      "cell_type": "code",
      "source": [
        "import numpy as np\n",
        "names = np.array(['Bob','Joe','Will','Bob','Will','Joe','Joe'])\n",
        "data = np.arange(28).reshape(7,4)\n",
        "print(names)\n",
        "print(data)\n",
        "print(names ==  'Bob')\n",
        "print(data[names == 'Bob'])\n",
        "print(data[names == 'Bob',2:])\n",
        "print(data[names == 'Bob',3])"
      ],
      "metadata": {
        "colab": {
          "base_uri": "https://localhost:8080/"
        },
        "id": "DJ_hibxKVVDG",
        "outputId": "6a8f903f-dac1-4b01-aea2-077cc62734bc"
      },
      "execution_count": 2,
      "outputs": [
        {
          "output_type": "stream",
          "name": "stdout",
          "text": [
            "['Bob' 'Joe' 'Will' 'Bob' 'Will' 'Joe' 'Joe']\n",
            "[[ 0  1  2  3]\n",
            " [ 4  5  6  7]\n",
            " [ 8  9 10 11]\n",
            " [12 13 14 15]\n",
            " [16 17 18 19]\n",
            " [20 21 22 23]\n",
            " [24 25 26 27]]\n",
            "[ True False False  True False False False]\n",
            "[[ 0  1  2  3]\n",
            " [12 13 14 15]]\n",
            "[[ 2  3]\n",
            " [14 15]]\n",
            "[ 3 15]\n"
          ]
        }
      ]
    },
    {
      "cell_type": "code",
      "source": [
        "import numpy as np\n",
        "x = np.arange(10)\n",
        "print(\"X = \",x)\n",
        "print(\"1st 5 elements\",x[:5])\n",
        "print(\"from 5\",x[5:])\n",
        "print(\"mid sub array\",x[4:7])\n",
        "print(x[::2])\n",
        "print(x[1::2])\n",
        "print(x[::-1])\n",
        "print(x[5::-2])"
      ],
      "metadata": {
        "colab": {
          "base_uri": "https://localhost:8080/"
        },
        "id": "HTfEonIUajSq",
        "outputId": "776d328a-1a40-4f3d-da4f-be2e1cb16e41"
      },
      "execution_count": 3,
      "outputs": [
        {
          "output_type": "stream",
          "name": "stdout",
          "text": [
            "X =  [0 1 2 3 4 5 6 7 8 9]\n",
            "1st 5 elements [0 1 2 3 4]\n",
            "from 5 [5 6 7 8 9]\n",
            "mid sub array [4 5 6]\n",
            "[0 2 4 6 8]\n",
            "[1 3 5 7 9]\n",
            "[9 8 7 6 5 4 3 2 1 0]\n",
            "[5 3 1]\n"
          ]
        }
      ]
    },
    {
      "cell_type": "code",
      "source": [
        "print(\"broadcasting\")\n",
        "x = np.arange(10)\n",
        "x[5:] = 1\n",
        "print(\"After\",x)\n",
        "x[::2] = 100\n",
        "print(\"After\",x)"
      ],
      "metadata": {
        "colab": {
          "base_uri": "https://localhost:8080/"
        },
        "id": "VFOMF81icGcC",
        "outputId": "e541f957-8e83-4edb-9782-54d8a7cf510b"
      },
      "execution_count": 4,
      "outputs": [
        {
          "output_type": "stream",
          "name": "stdout",
          "text": [
            "broadcasting\n",
            "After [0 1 2 3 4 1 1 1 1 1]\n",
            "After [100   1 100   3 100   1 100   1 100   1]\n"
          ]
        }
      ]
    },
    {
      "cell_type": "code",
      "source": [
        "x = np.arange(12)\n",
        "print(\"original array\",x)\n",
        "view = x[3:7]\n",
        "print(\"View\",view)\n",
        "view[1:4] = 99\n",
        "print(\"Modified\",view)\n",
        "print(\"Original array after modification\",x)\n",
        "view[:] = -7\n",
        "print(\"Modified\",view)\n",
        "print(\"X=\",x)"
      ],
      "metadata": {
        "colab": {
          "base_uri": "https://localhost:8080/"
        },
        "id": "m_0yPAtCcy4r",
        "outputId": "f215661a-eace-492e-a4c6-efd9256e40cd"
      },
      "execution_count": 5,
      "outputs": [
        {
          "output_type": "stream",
          "name": "stdout",
          "text": [
            "original array [ 0  1  2  3  4  5  6  7  8  9 10 11]\n",
            "View [3 4 5 6]\n",
            "Modified [ 3 99 99 99]\n",
            "Original array after modification [ 0  1  2  3 99 99 99  7  8  9 10 11]\n",
            "Modified [-7 -7 -7 -7]\n",
            "X= [ 0  1  2 -7 -7 -7 -7  7  8  9 10 11]\n"
          ]
        }
      ]
    },
    {
      "cell_type": "code",
      "source": [
        "x = np.array([[2,8,4,5],\n",
        "              [7,5,2,9],\n",
        "              [7,1,12,17]])\n",
        "print(x[0])\n",
        "print(x[1])\n",
        "print(x[2])\n",
        "print(x[1,0])\n",
        "print(x[1][0])\n",
        "print(x[2,2])\n",
        "print(x[2,-1])\n",
        "print(x[1,-2])"
      ],
      "metadata": {
        "colab": {
          "base_uri": "https://localhost:8080/"
        },
        "id": "0srZbo87eUVB",
        "outputId": "8877bf3c-0de4-4096-e8bb-0b769da1bc5e"
      },
      "execution_count": 6,
      "outputs": [
        {
          "output_type": "stream",
          "name": "stdout",
          "text": [
            "[2 8 4 5]\n",
            "[7 5 2 9]\n",
            "[ 7  1 12 17]\n",
            "7\n",
            "7\n",
            "12\n",
            "17\n",
            "2\n"
          ]
        }
      ]
    },
    {
      "cell_type": "code",
      "source": [
        "import numpy as np\n",
        "\n",
        "a = np.array([1, 2, 3])\n",
        "b = np.array([4, 5, 6])\n"
      ],
      "metadata": {
        "id": "pOxKcdF-guVv"
      },
      "execution_count": 8,
      "outputs": []
    },
    {
      "cell_type": "code",
      "source": [
        "print(a + b)\n",
        "print(a - b)\n",
        "print(a * b)\n",
        "print(b / a)\n",
        "print(a ** 2)\n",
        "print(b % a)\n",
        "print(b // a)\n"
      ],
      "metadata": {
        "colab": {
          "base_uri": "https://localhost:8080/"
        },
        "id": "0PtoTrylZCM6",
        "outputId": "3313e3d8-558b-4a59-cc8d-98bbf4ccce4d"
      },
      "execution_count": 9,
      "outputs": [
        {
          "output_type": "stream",
          "name": "stdout",
          "text": [
            "[5 7 9]\n",
            "[-3 -3 -3]\n",
            "[ 4 10 18]\n",
            "[4.  2.5 2. ]\n",
            "[1 4 9]\n",
            "[0 1 0]\n",
            "[4 2 2]\n"
          ]
        }
      ]
    },
    {
      "cell_type": "code",
      "source": [
        "print(np.add(a, b))\n",
        "print(np.subtract(a, b))\n",
        "print(np.multiply(a, b))\n",
        "print(np.divide(b, a))\n"
      ],
      "metadata": {
        "colab": {
          "base_uri": "https://localhost:8080/"
        },
        "id": "zT9sokWzZSx2",
        "outputId": "b776b6d1-8845-4884-a1ca-25f46448d0a7"
      },
      "execution_count": 10,
      "outputs": [
        {
          "output_type": "stream",
          "name": "stdout",
          "text": [
            "[5 7 9]\n",
            "[-3 -3 -3]\n",
            "[ 4 10 18]\n",
            "[4.  2.5 2. ]\n"
          ]
        }
      ]
    },
    {
      "cell_type": "code",
      "source": [
        "import numpy as np\n",
        "\n",
        "a = np.array([[1, 2, 3],\n",
        "              [4, 5, 6]])\n",
        "\n",
        "b = np.array([10, 20, 30])\n",
        "\n",
        "c = np.array([[1],\n",
        "              [2]])\n",
        "\n",
        "print(a + b)\n",
        "print(a + c)\n",
        "d = np.array([1, 2])\n",
        "print(a * 10)\n"
      ],
      "metadata": {
        "colab": {
          "base_uri": "https://localhost:8080/"
        },
        "id": "p2MbRWTyZ3Dq",
        "outputId": "508062ec-abbd-4beb-edeb-bf15e3e677dd"
      },
      "execution_count": 11,
      "outputs": [
        {
          "output_type": "stream",
          "name": "stdout",
          "text": [
            "[[11 22 33]\n",
            " [14 25 36]]\n",
            "[[2 3 4]\n",
            " [6 7 8]]\n",
            "[[10 20 30]\n",
            " [40 50 60]]\n"
          ]
        }
      ]
    },
    {
      "cell_type": "code",
      "source": [
        "x = np.array([[1, 2, 3],\n",
        "              [4, 5, 6]])\n",
        "y = np.array([1, 0, -1])\n",
        "\n",
        "print(x + y)\n"
      ],
      "metadata": {
        "colab": {
          "base_uri": "https://localhost:8080/"
        },
        "id": "t6o388AxZ8c8",
        "outputId": "75474056-d3c7-469c-ce77-126293f370da"
      },
      "execution_count": 12,
      "outputs": [
        {
          "output_type": "stream",
          "name": "stdout",
          "text": [
            "[[2 2 2]\n",
            " [5 5 5]]\n"
          ]
        }
      ]
    },
    {
      "cell_type": "code",
      "source": [
        "import numpy as np\n",
        "\n",
        "a = np.array([[1, 2, 3],\n",
        "              [4, 5, 6]])\n",
        "\n",
        "b = np.array([10, 20, 30])\n",
        "c = np.array([[1], [2]])\n",
        "d = np.array([[100], [200]])\n",
        "e = np.array([1, 2, 3])\n",
        "\n",
        "print(a + b)\n",
        "print(a + c)\n",
        "print(c + d)\n",
        "print(b * e)\n"
      ],
      "metadata": {
        "colab": {
          "base_uri": "https://localhost:8080/"
        },
        "id": "GOC_R2HaaHW-",
        "outputId": "f9c99674-bb97-4960-ad54-6cd794e1852f"
      },
      "execution_count": 13,
      "outputs": [
        {
          "output_type": "stream",
          "name": "stdout",
          "text": [
            "[[11 22 33]\n",
            " [14 25 36]]\n",
            "[[2 3 4]\n",
            " [6 7 8]]\n",
            "[[101]\n",
            " [202]]\n",
            "[10 40 90]\n"
          ]
        }
      ]
    },
    {
      "cell_type": "code",
      "source": [
        "import numpy as np\n",
        "\n",
        "a = np.array([1, 2, 3, 4, 5, 6])\n",
        "\n",
        "a2 = a.reshape(2, 3)\n",
        "a3 = a.reshape(3, 2)\n",
        "a_row = a.reshape(1, 6)\n",
        "a_col = a.reshape(6, 1)\n",
        "a_flat = a2.reshape(-1)\n",
        "\n",
        "print(a2)\n",
        "print(a3)\n",
        "print(a_row)\n",
        "print(a_col)\n",
        "print(a_flat)\n"
      ],
      "metadata": {
        "colab": {
          "base_uri": "https://localhost:8080/"
        },
        "id": "lUJBCbcpaOke",
        "outputId": "a9fe0ca7-403b-46b9-8a25-42d03771b4fc"
      },
      "execution_count": 14,
      "outputs": [
        {
          "output_type": "stream",
          "name": "stdout",
          "text": [
            "[[1 2 3]\n",
            " [4 5 6]]\n",
            "[[1 2]\n",
            " [3 4]\n",
            " [5 6]]\n",
            "[[1 2 3 4 5 6]]\n",
            "[[1]\n",
            " [2]\n",
            " [3]\n",
            " [4]\n",
            " [5]\n",
            " [6]]\n",
            "[1 2 3 4 5 6]\n"
          ]
        }
      ]
    },
    {
      "cell_type": "code",
      "source": [
        "import numpy as np\n",
        "\n",
        "a = np.arange(24)\n",
        "\n",
        "a2d = a.reshape(4, 6)\n",
        "a3d = a.reshape(2, 3, 4)\n",
        "a_flat = a.reshape(-1)\n",
        "\n",
        "print(a2d)\n",
        "print(a3d)\n",
        "print(a_flat)\n"
      ],
      "metadata": {
        "colab": {
          "base_uri": "https://localhost:8080/"
        },
        "id": "f6drpEITalT6",
        "outputId": "5d0b7d50-71df-4349-c82e-c177769879a5"
      },
      "execution_count": 15,
      "outputs": [
        {
          "output_type": "stream",
          "name": "stdout",
          "text": [
            "[[ 0  1  2  3  4  5]\n",
            " [ 6  7  8  9 10 11]\n",
            " [12 13 14 15 16 17]\n",
            " [18 19 20 21 22 23]]\n",
            "[[[ 0  1  2  3]\n",
            "  [ 4  5  6  7]\n",
            "  [ 8  9 10 11]]\n",
            "\n",
            " [[12 13 14 15]\n",
            "  [16 17 18 19]\n",
            "  [20 21 22 23]]]\n",
            "[ 0  1  2  3  4  5  6  7  8  9 10 11 12 13 14 15 16 17 18 19 20 21 22 23]\n"
          ]
        }
      ]
    },
    {
      "cell_type": "code",
      "source": [
        "import numpy as np\n",
        "\n",
        "a = np.array([1, 2, 3, 4])\n",
        "b = np.array([1, 0, 3, 5])\n",
        "\n",
        "print(a == b)\n",
        "print(a != b)\n",
        "print(a > b)\n",
        "print(a < b)\n",
        "print(a >= b)\n",
        "print(a <= b)\n"
      ],
      "metadata": {
        "colab": {
          "base_uri": "https://localhost:8080/"
        },
        "id": "ZPVCWIDoauel",
        "outputId": "a8f73e84-cca5-49f4-eebd-15edce0b3cac"
      },
      "execution_count": 16,
      "outputs": [
        {
          "output_type": "stream",
          "name": "stdout",
          "text": [
            "[ True False  True False]\n",
            "[False  True False  True]\n",
            "[False  True False False]\n",
            "[False False False  True]\n",
            "[ True  True  True False]\n",
            "[ True False  True  True]\n"
          ]
        }
      ]
    },
    {
      "cell_type": "code",
      "source": [
        "import numpy as np\n",
        "\n",
        "a = np.array([1.0, 2.5, 3.1, 4.0])\n",
        "b = np.array([1.0, 2.0, 3.1, 5.0])\n",
        "\n",
        "print(a == b)\n",
        "print(a != b)\n",
        "print(a > b)\n",
        "print(a < b)\n",
        "print(a >= b)\n",
        "print(a <= b)\n"
      ],
      "metadata": {
        "colab": {
          "base_uri": "https://localhost:8080/"
        },
        "id": "ZKMA-9JSa3cj",
        "outputId": "bd4a2d0f-8dbf-4e65-fbb6-0f9046cbed80"
      },
      "execution_count": 17,
      "outputs": [
        {
          "output_type": "stream",
          "name": "stdout",
          "text": [
            "[ True False  True False]\n",
            "[False  True False  True]\n",
            "[False  True False False]\n",
            "[False False False  True]\n",
            "[ True  True  True False]\n",
            "[ True False  True  True]\n"
          ]
        }
      ]
    },
    {
      "cell_type": "code",
      "source": [
        "import numpy as np\n",
        "\n",
        "a = np.array([10, 20, 30, 40, 50, 60])\n",
        "\n",
        "print(a[0])      # First element\n",
        "print(a[-1])     # Last element\n",
        "print(a[1:4])    # Slice from index 1 to 3\n",
        "print(a[:3])     # First three elements\n",
        "print(a[3:])     # From index 3 to end\n",
        "print(a[::2])    # Every second element\n",
        "print(a[::-1])   # Reversed array\n"
      ],
      "metadata": {
        "colab": {
          "base_uri": "https://localhost:8080/"
        },
        "id": "68FcX8prbI6R",
        "outputId": "2ce2b06e-59dc-4b4c-8f9d-40d04b4de8be"
      },
      "execution_count": 18,
      "outputs": [
        {
          "output_type": "stream",
          "name": "stdout",
          "text": [
            "10\n",
            "60\n",
            "[20 30 40]\n",
            "[10 20 30]\n",
            "[40 50 60]\n",
            "[10 30 50]\n",
            "[60 50 40 30 20 10]\n"
          ]
        }
      ]
    },
    {
      "cell_type": "code",
      "source": [
        "import numpy as np\n",
        "\n",
        "a = np.array([[1, 2, 3],\n",
        "              [4, 5, 6],\n",
        "              [7, 8, 9]])"
      ],
      "metadata": {
        "id": "_MfGCxs6bivI"
      },
      "execution_count": 19,
      "outputs": []
    },
    {
      "cell_type": "code",
      "source": [
        "print(a[0, 0])\n",
        "print(a[1])\n",
        "print(a[:, 1])"
      ],
      "metadata": {
        "colab": {
          "base_uri": "https://localhost:8080/"
        },
        "id": "7LRqV88NbkWZ",
        "outputId": "6ef900cb-8b49-4b13-aa7d-87d561a21b2c"
      },
      "execution_count": 20,
      "outputs": [
        {
          "output_type": "stream",
          "name": "stdout",
          "text": [
            "1\n",
            "[4 5 6]\n",
            "[2 5 8]\n"
          ]
        }
      ]
    },
    {
      "cell_type": "code",
      "source": [
        "print(a[0:2, 1:3])\n",
        "print(a[:, ::2])"
      ],
      "metadata": {
        "colab": {
          "base_uri": "https://localhost:8080/"
        },
        "id": "GtnuMJIrbp02",
        "outputId": "f89f329c-34e7-44fa-b323-92337f454b88"
      },
      "execution_count": 21,
      "outputs": [
        {
          "output_type": "stream",
          "name": "stdout",
          "text": [
            "[[2 3]\n",
            " [5 6]]\n",
            "[[1 3]\n",
            " [4 6]\n",
            " [7 9]]\n"
          ]
        }
      ]
    },
    {
      "cell_type": "code",
      "source": [
        "b = np.array([10, 20, 30])\n",
        "print(a + b)\n",
        "\n",
        "c = np.array([[1], [2], [3]])\n",
        "print(a * c)"
      ],
      "metadata": {
        "colab": {
          "base_uri": "https://localhost:8080/"
        },
        "id": "KyIVqS1obsvr",
        "outputId": "edc5ce60-37a1-4ad3-f27e-4d934d7e5eb2"
      },
      "execution_count": 22,
      "outputs": [
        {
          "output_type": "stream",
          "name": "stdout",
          "text": [
            "[[11 22 33]\n",
            " [14 25 36]\n",
            " [17 28 39]]\n",
            "[[ 1  2  3]\n",
            " [ 8 10 12]\n",
            " [21 24 27]]\n"
          ]
        }
      ]
    },
    {
      "cell_type": "code",
      "source": [
        "print(np.sum(a))\n",
        "print(np.mean(a, axis=0))\n",
        "print(np.max(a, axis=1))"
      ],
      "metadata": {
        "colab": {
          "base_uri": "https://localhost:8080/"
        },
        "id": "YtYiWuHMbwkj",
        "outputId": "5e978f81-1687-428b-92cd-116db97d975f"
      },
      "execution_count": 23,
      "outputs": [
        {
          "output_type": "stream",
          "name": "stdout",
          "text": [
            "45\n",
            "[4. 5. 6.]\n",
            "[3 6 9]\n"
          ]
        }
      ]
    },
    {
      "cell_type": "code",
      "source": [
        "import numpy as np\n",
        "\n",
        "a = np.arange(27).reshape(3, 3, 3)\n",
        "\n",
        "print(a[0, :, :])\n",
        "print(a[:, 1, :])\n",
        "print(a[:, :, 2])\n",
        "print(a[1:, 0:2, 1:3])\n"
      ],
      "metadata": {
        "colab": {
          "base_uri": "https://localhost:8080/"
        },
        "id": "W0FjyBcQb6Tq",
        "outputId": "ed18a09d-b584-4841-8888-0afe57a8de10"
      },
      "execution_count": 24,
      "outputs": [
        {
          "output_type": "stream",
          "name": "stdout",
          "text": [
            "[[0 1 2]\n",
            " [3 4 5]\n",
            " [6 7 8]]\n",
            "[[ 3  4  5]\n",
            " [12 13 14]\n",
            " [21 22 23]]\n",
            "[[ 2  5  8]\n",
            " [11 14 17]\n",
            " [20 23 26]]\n",
            "[[[10 11]\n",
            "  [13 14]]\n",
            "\n",
            " [[19 20]\n",
            "  [22 23]]]\n"
          ]
        }
      ]
    },
    {
      "cell_type": "code",
      "source": [
        "import numpy as np\n",
        "a = np.arange(12).reshape(3, 4)"
      ],
      "metadata": {
        "id": "SmoOU5uOcNje"
      },
      "execution_count": 25,
      "outputs": []
    },
    {
      "cell_type": "code",
      "source": [
        "print(np.transpose(a))"
      ],
      "metadata": {
        "colab": {
          "base_uri": "https://localhost:8080/"
        },
        "id": "NmpXj4XmcP1I",
        "outputId": "5df76098-845f-45c9-be74-61d9cac15dfa"
      },
      "execution_count": 27,
      "outputs": [
        {
          "output_type": "stream",
          "name": "stdout",
          "text": [
            "[[ 0  4  8]\n",
            " [ 1  5  9]\n",
            " [ 2  6 10]\n",
            " [ 3  7 11]]\n"
          ]
        }
      ]
    },
    {
      "cell_type": "code",
      "source": [
        "a2d = np.array([[1, 2, 3],\n",
        "                [4, 5, 6]])\n",
        "print(\"2D transpose:\\n\", np.transpose(a2d))"
      ],
      "metadata": {
        "colab": {
          "base_uri": "https://localhost:8080/"
        },
        "id": "QR8CsZhQcuAq",
        "outputId": "39acd371-6874-4771-da8b-94d754532c97"
      },
      "execution_count": 28,
      "outputs": [
        {
          "output_type": "stream",
          "name": "stdout",
          "text": [
            "2D transpose:\n",
            " [[1 4]\n",
            " [2 5]\n",
            " [3 6]]\n"
          ]
        }
      ]
    },
    {
      "cell_type": "code",
      "source": [
        "a3d = np.arange(24).reshape(2, 3, 4)\n",
        "print(\"\\n3D original shape:\", a3d.shape)\n",
        "print(\"3D transpose (default axes):\\n\", np.transpose(a3d).shape)"
      ],
      "metadata": {
        "colab": {
          "base_uri": "https://localhost:8080/"
        },
        "id": "5cgNHgO7cyKs",
        "outputId": "c892ef53-ec8c-4201-c3b3-4d5bf0e00f97"
      },
      "execution_count": 29,
      "outputs": [
        {
          "output_type": "stream",
          "name": "stdout",
          "text": [
            "\n",
            "3D original shape: (2, 3, 4)\n",
            "3D transpose (default axes):\n",
            " (4, 3, 2)\n"
          ]
        }
      ]
    },
    {
      "cell_type": "code",
      "source": [
        "print(\"3D transpose (axes=(1, 0, 2)) shape:\", np.transpose(a3d, (1, 0, 2)).shape)\n",
        "print(\"3D transpose (axes=(2, 1, 0)) shape:\", np.transpose(a3d, (2, 1, 0)).shape)"
      ],
      "metadata": {
        "colab": {
          "base_uri": "https://localhost:8080/"
        },
        "id": "Sik7o2Y2c3qx",
        "outputId": "c5469e95-49da-4ed1-971a-63caf87839f8"
      },
      "execution_count": 30,
      "outputs": [
        {
          "output_type": "stream",
          "name": "stdout",
          "text": [
            "3D transpose (axes=(1, 0, 2)) shape: (3, 2, 4)\n",
            "3D transpose (axes=(2, 1, 0)) shape: (4, 3, 2)\n"
          ]
        }
      ]
    },
    {
      "cell_type": "code",
      "source": [
        "b = np.arange(24).reshape(2, 3, 4)\n",
        "print(np.swapaxes(b, 0, 2))"
      ],
      "metadata": {
        "colab": {
          "base_uri": "https://localhost:8080/"
        },
        "id": "vug1zhfvc7sm",
        "outputId": "ef4a87c0-2cc0-4476-ac1d-15d5fcfaf778"
      },
      "execution_count": 31,
      "outputs": [
        {
          "output_type": "stream",
          "name": "stdout",
          "text": [
            "[[[ 0 12]\n",
            "  [ 4 16]\n",
            "  [ 8 20]]\n",
            "\n",
            " [[ 1 13]\n",
            "  [ 5 17]\n",
            "  [ 9 21]]\n",
            "\n",
            " [[ 2 14]\n",
            "  [ 6 18]\n",
            "  [10 22]]\n",
            "\n",
            " [[ 3 15]\n",
            "  [ 7 19]\n",
            "  [11 23]]]\n"
          ]
        }
      ]
    },
    {
      "cell_type": "code",
      "source": [
        "a2d = np.array([[1, 2, 3],\n",
        "                [4, 5, 6]])\n",
        "print(np.swapaxes(a2d, 0, 1))\n"
      ],
      "metadata": {
        "colab": {
          "base_uri": "https://localhost:8080/"
        },
        "id": "ZWs4L_lzdL49",
        "outputId": "aafffa9b-4403-4ec8-f2d5-f3243dd56b4b"
      },
      "execution_count": 32,
      "outputs": [
        {
          "output_type": "stream",
          "name": "stdout",
          "text": [
            "[[1 4]\n",
            " [2 5]\n",
            " [3 6]]\n"
          ]
        }
      ]
    },
    {
      "cell_type": "code",
      "source": [
        "a3d = np.arange(24).reshape(2, 3, 4)\n",
        "print(np.swapaxes(a3d, 0, 2).shape)\n",
        "print(np.swapaxes(a3d, 1, 2).shape)"
      ],
      "metadata": {
        "colab": {
          "base_uri": "https://localhost:8080/"
        },
        "id": "J2BtKCCDdU-c",
        "outputId": "930aca7b-96f1-460a-c7dc-aa7527215e19"
      },
      "execution_count": 33,
      "outputs": [
        {
          "output_type": "stream",
          "name": "stdout",
          "text": [
            "(4, 3, 2)\n",
            "(2, 4, 3)\n"
          ]
        }
      ]
    },
    {
      "cell_type": "code",
      "source": [
        "import numpy as np\n",
        "\n",
        "a = np.array([[1, 2],\n",
        "              [3, 4]])\n",
        "\n",
        "b = np.array([[5, 6],\n",
        "              [7, 8]])\n",
        "\n",
        "print(np.matmul(a, b))\n",
        "print(a @ b)"
      ],
      "metadata": {
        "colab": {
          "base_uri": "https://localhost:8080/"
        },
        "id": "2y9scdoudhh5",
        "outputId": "75bbc14e-6740-4fc5-ad86-41fd4bd64c2b"
      },
      "execution_count": 34,
      "outputs": [
        {
          "output_type": "stream",
          "name": "stdout",
          "text": [
            "[[19 22]\n",
            " [43 50]]\n",
            "[[19 22]\n",
            " [43 50]]\n"
          ]
        }
      ]
    },
    {
      "cell_type": "code",
      "source": [
        "a = np.array([[1, 2],\n",
        "              [3, 4]])\n",
        "b = np.array([[5, 6],\n",
        "              [7, 8]])\n",
        "\n",
        "print(np.matmul(a, b))"
      ],
      "metadata": {
        "colab": {
          "base_uri": "https://localhost:8080/"
        },
        "id": "HnvDuAHXdpQB",
        "outputId": "2d4acdae-26dc-447d-814a-7e95216a8ad9"
      },
      "execution_count": 35,
      "outputs": [
        {
          "output_type": "stream",
          "name": "stdout",
          "text": [
            "[[19 22]\n",
            " [43 50]]\n"
          ]
        }
      ]
    },
    {
      "cell_type": "code",
      "source": [
        "A = np.array([[[1, 2],\n",
        "               [3, 4]],\n",
        "\n",
        "              [[5, 6],\n",
        "               [7, 8]]])\n",
        "\n",
        "B = np.array([[[9, 8],\n",
        "               [7, 6]],\n",
        "\n",
        "              [[5, 4],\n",
        "               [3, 2]]])\n",
        "\n",
        "print(np.matmul(A, B))\n"
      ],
      "metadata": {
        "colab": {
          "base_uri": "https://localhost:8080/"
        },
        "id": "A4OwN4cFdtFY",
        "outputId": "5b1ac394-f6f8-4d04-87ae-e17d0e0e8f89"
      },
      "execution_count": 36,
      "outputs": [
        {
          "output_type": "stream",
          "name": "stdout",
          "text": [
            "[[[23 20]\n",
            "  [55 48]]\n",
            "\n",
            " [[43 32]\n",
            "  [59 44]]]\n"
          ]
        }
      ]
    }
  ]
}